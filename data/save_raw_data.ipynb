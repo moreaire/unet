{
 "cells": [
  {
   "cell_type": "markdown",
   "id": "3c7de712-4ea2-4071-9721-f397a512e356",
   "metadata": {},
   "source": [
    "## Saving Data\n",
    "\n",
    "Notebook also includes section to save data into the format required by the model. \n",
    "\n",
    "NOTE: This notebook can easily be removed with a few modifications to how data is saved, either in the cropping notebook or later on. "
   ]
  },
  {
   "cell_type": "code",
   "execution_count": 56,
   "id": "f8777e7f-24cb-497f-af80-847d012f84f3",
   "metadata": {},
   "outputs": [],
   "source": [
    "import numpy as np\n",
    "import skimage.io\n",
    "import torch\n",
    "from torchvision.transforms import ToTensor, Lambda\n",
    "from PIL import Image\n",
    "import pandas as pd\n",
    "import os"
   ]
  },
  {
   "cell_type": "code",
   "execution_count": 57,
   "id": "fb2a56c0-d89f-4c1a-bb58-05499eafa625",
   "metadata": {},
   "outputs": [],
   "source": [
    "#These are lists to collect all images and create a massive dictionary with all of them\n",
    "sample_name = []\n",
    "sample_address = []"
   ]
  },
  {
   "cell_type": "code",
   "execution_count": 62,
   "id": "8dc964f0-96b7-43be-a651-a092c6a7aaae",
   "metadata": {},
   "outputs": [],
   "source": [
    "def save(sample, mask, sample_name, sample_address):\n",
    "    \"\"\"\n",
    "    Saves file in folder with iterating number to correspond to number of samples desired as pytorch tensors. \n",
    "    This function combines the image and the associated mask together in a dictionary. Adds information to the lists\n",
    "    \"\"\"\n",
    "    input_tensor = torch.Tensor(sample)\n",
    "    mask_tensor = torch.Tensor(mask)\n",
    "\n",
    "    torch.save({\"input\": input_tensor, \"target\": mask_tensor}, f\"/Users/morganaire/Documents/BNL/unet/cropped_data/data{i}.pt\")\n",
    "\n",
    "    sample_name.append(f\"data{i}.pt\")\n",
    "    sample_address.append(f\"/Users/morganaire/Documents/BNL/unet/cropped_data/data{i}.pt\")\n",
    "    \n",
    "    #print(\"File saved.\")\n",
    "    return(sample_name, sample_address)\n",
    "\n",
    "def save_total_data(name, address):\n",
    "    \"\"\"\n",
    "    Saving titles and sample addresses into a separate csv file for use in the neural network.\n",
    "    Uses the lists of all the names and addresses to save to CSV\n",
    "    \"\"\"\n",
    "    \n",
    "    d = {'sample': name, 'address': address}\n",
    "    df = pd.DataFrame(data=d)\n",
    "    \n",
    "    #torch.save(df)\n",
    "    df.to_csv('/Users/morganaire/Documents/BNL/unet/cropped_data/data_address.csv', index = False)\n",
    "    print(\"All samples completed. Data saved.\")"
   ]
  },
  {
   "cell_type": "code",
   "execution_count": 63,
   "id": "cf87a88a-de5e-4ef9-ad7c-06e992291190",
   "metadata": {},
   "outputs": [],
   "source": [
    "img = '/Users/morganaire/Documents/BNL/unet/cropped_images'\n",
    "mask = '/Users/morganaire/Documents/BNL/unet/cropped_masks'\n",
    "img_list = os.listdir(img)\n",
    "mask_list = os.listdir(mask)\n",
    "\n",
    "img_list.remove('.DS_Store') #For some reason, this was a file in the image list\n",
    "\n",
    "#Iterate through all files in folder and send them to be saved\n",
    "for i in range (len(img_list)): \n",
    "    if img_list[i] == mask_list[i]: #Assert masks and images are the same\n",
    "        img_file = np.load(f'/Users/morganaire/Documents/BNL/unet/cropped_images/{img_list[i]}')\n",
    "        img_mask = np.load(f'/Users/morganaire/Documents/BNL/unet/cropped_images/{mask_list[i]}')\n",
    "        sample_name, sample_address = save(img_file, img_mask, sample_name, sample_address)\n",
    "\n",
    "#To create CSV of all data points\n",
    "save_total_data(sample_name, sample_address)"
   ]
  },
  {
   "cell_type": "code",
   "execution_count": 64,
   "id": "84ffaba8-a0f8-4ee7-9e86-6fad55b2e39f",
   "metadata": {},
   "outputs": [
    {
     "name": "stdout",
     "output_type": "stream",
     "text": [
      "182 182\n",
      "All samples completed. Data saved.\n"
     ]
    }
   ],
   "source": []
  }
 ],
 "metadata": {
  "kernelspec": {
   "display_name": "Python 3",
   "language": "python",
   "name": "python3"
  },
  "language_info": {
   "codemirror_mode": {
    "name": "ipython",
    "version": 3
   },
   "file_extension": ".py",
   "mimetype": "text/x-python",
   "name": "python",
   "nbconvert_exporter": "python",
   "pygments_lexer": "ipython3",
   "version": "3.8.10"
  }
 },
 "nbformat": 4,
 "nbformat_minor": 5
}
