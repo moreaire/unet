{
 "cells": [
  {
   "cell_type": "markdown",
   "id": "c98ba66f",
   "metadata": {},
   "source": [
    "## Napari Notebook for labeling\n",
    "\n",
    "This notebook opens an image in napari. Saving and all labeling is done on the napari interface. Preprocessing to better see the image is also included, but is not saved. "
   ]
  },
  {
   "cell_type": "code",
   "execution_count": 15,
   "id": "5fb6a7d5",
   "metadata": {},
   "outputs": [
    {
     "name": "stderr",
     "output_type": "stream",
     "text": [
      "<ipython-input-15-c5a46a4369e8>:16: RuntimeWarning: divide by zero encountered in log\n",
      "  img_log = np.log(img + 0.5)\n",
      "/Users/morganaire/opt/anaconda3/envs/napari-env/lib/python3.8/site-packages/napari/_vispy/vispy_camera.py:109: RuntimeWarning: divide by zero encountered in true_divide\n",
      "  zoom = np.min(canvas_size / scale)\n"
     ]
    },
    {
     "data": {
      "image/png": "[encoded data removed]",
      "text/plain": [
       "<Figure size 432x288 with 1 Axes>"
      ]
     },
     "metadata": {
      "needs_background": "light"
     },
     "output_type": "display_data"
    }
   ],
   "source": [
    "from skimage import data\n",
    "import numpy as np\n",
    "import napari\n",
    "import matplotlib.pyplot as plt\n",
    "import pandas as pd\n",
    "from scipy import stats\n",
    "\n",
    "\n",
    "img = np.load(\"/Users/morganaire/Documents/BNL/unet/CSX_photons/S_141798_mean_10.npy\")\n",
    "\n",
    "#In the future, might need a better way to deal with exceptionally large points. Set to zero for napari\n",
    "img = np.where(img > 10000, 0, img)\n",
    "\n",
    "\n",
    "#Preprocessing: using log, filtering large values, and box cox\n",
    "img_log = np.log(img + 0.5)\n",
    "img_log = np.nan_to_num(img_log)\n",
    "img_log = np.where(np.abs(img_log) > 1000, 0, img_log)\n",
    "\n",
    "min_val = np.min(img_log)\n",
    "box_cox, l = stats.boxcox(img_log.flatten()+min_val+1)\n",
    "\n",
    "\n",
    "#Plotting (for reference with Napari)\n",
    "plt.imshow(img_log, vmin = 0, vmax = 1)\n",
    "plt.title(\"Preprocessed CSX Image\")\n",
    "\n",
    "#To view in napari\n",
    "viewer = napari.view_image(img_log)\n",
    "\n",
    "\n"
   ]
  },
  {
   "cell_type": "code",
   "execution_count": null,
   "id": "9b01f6c2-d06d-416f-8cda-ebd75b9a7368",
   "metadata": {},
   "outputs": [],
   "source": []
  }
 ],
 "metadata": {
  "kernelspec": {
   "display_name": "Python 3",
   "language": "python",
   "name": "python3"
  },
  "language_info": {
   "codemirror_mode": {
    "name": "ipython",
    "version": 3
   },
   "file_extension": ".py",
   "mimetype": "text/x-python",
   "name": "python",
   "nbconvert_exporter": "python",
   "pygments_lexer": "ipython3",
   "version": "3.8.10"
  }
 },
 "nbformat": 4,
 "nbformat_minor": 5
}
