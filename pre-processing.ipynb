{
 "cells": [
  {
   "cell_type": "code",
   "execution_count": null,
   "id": "ccbf8c41",
   "metadata": {},
   "outputs": [],
   "source": [
    "import numpy as np\n",
    "import matplotlib.pyplot as plt\n",
    "from scipy.ndimage import gaussian_filter\n",
    "from scipy.ndimage.measurements import center_of_mass"
   ]
  },
  {
   "cell_type": "code",
   "execution_count": null,
   "id": "b1ba13cd",
   "metadata": {},
   "outputs": [],
   "source": [
    "x = np.load('images_chx/ee396ea1_image.npy')\n",
    "\n",
    "\n",
    "# transformation of CHX data\n",
    "x[x>2000] = 0\n",
    "x[255:260, :] = 0\n",
    "x[805:810, :] = 0\n",
    "x[1357:1361, :] = 0\n",
    "x[1908:1912, :] = 0\n",
    "x[920:950, 1150:] = 0\n",
    "\n",
    "x_c, y_c = center_of_mass(x)\n",
    "\n",
    "# add a random dispacement if needed\n",
    "# maybe, leave it for later for data augmentation\n",
    "# x_c += np.random.randint(-100, 100)\n",
    "# y_c += np.random.randint(-100, 100\n",
    "\n",
    "size = 512\n",
    "x_c = np.max(int(x_c)-size//2, 0)\n",
    "y_c = np.max(int(y_c)-size//2, 0)\n",
    "print(x_c, y_c)\n",
    "plt.figure(dpi = 300)\n",
    "cropped_x = x[x_c:x_c+size, y_c:y_c+size]\n",
    "plt.imshow(cropped_x , vmin = 0, vmax =5, origin = 'lower')"
   ]
  },
  {
   "cell_type": "code",
   "execution_count": null,
   "id": "5452dafb",
   "metadata": {},
   "outputs": [],
   "source": [
    "def resize(x, n):\n",
    "    xr = np.zeros((x.shape[0]//n,x.shape[1]//n ))\n",
    "    for j in range(0, x.shape[0]-n, n):\n",
    "        for i in range(0, x.shape[1]-n, n):\n",
    "            xr[j//n, i//n] = np.nanmean(x[j:j+n, i:i+n])\n",
    "    return xr\n",
    "\n",
    "# I haven't checked it yet. But the idea should be to selec the nearest label\n",
    "# that is not a background\n",
    "def resize_target(x, n): \n",
    "    xr = np.zeros((x.shape[0]//n,x.shape[1]//n ))\n",
    "    for j in range(0, x.shape[0]-n, n):\n",
    "        for i in range(0, x.shape[1]-n, n):\n",
    "            xr[j//n, i//n] = np.nanmax(x[j:j+n, i:i+n])\n",
    "    return xr"
   ]
  },
  {
   "cell_type": "code",
   "execution_count": null,
   "id": "ce8745d1",
   "metadata": {},
   "outputs": [],
   "source": [
    "y = resize(cropped_x, 2)\n",
    "y_smooth = gaussian_filter(y, sigma=2)\n",
    "#y = gaussian_filter(y, sigma=0.3)\n",
    "y = (y - y_smooth.min())/(y_smooth.max() - y_smooth.min())"
   ]
  },
  {
   "cell_type": "code",
   "execution_count": null,
   "id": "e554de2a",
   "metadata": {},
   "outputs": [],
   "source": [
    "plt.figure(dpi = 300)\n",
    "plt.imshow(y, vmin = 0, vmax=1, origin = 'lower')"
   ]
  },
  {
   "cell_type": "code",
   "execution_count": null,
   "id": "50fa8417",
   "metadata": {},
   "outputs": [],
   "source": [
    "# Additional modifications: mirrow-flips\n",
    "# x -> x[::-1, :]\n",
    "# x -> x[:, ::-1]\n",
    "# x -> X[::-1, ::-1]"
   ]
  }
 ],
 "metadata": {
  "kernelspec": {
   "display_name": "Python 3",
   "language": "python",
   "name": "python3"
  },
  "language_info": {
   "codemirror_mode": {
    "name": "ipython",
    "version": 3
   },
   "file_extension": ".py",
   "mimetype": "text/x-python",
   "name": "python",
   "nbconvert_exporter": "python",
   "pygments_lexer": "ipython3",
   "version": "3.8.10"
  }
 },
 "nbformat": 4,
 "nbformat_minor": 5
}
